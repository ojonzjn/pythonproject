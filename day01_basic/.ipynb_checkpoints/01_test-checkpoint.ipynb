{
 "cells": [
  {
   "cell_type": "code",
   "execution_count": 1,
   "id": "a701e044",
   "metadata": {},
   "outputs": [
    {
     "name": "stdout",
     "output_type": "stream",
     "text": [
      "hello world\n"
     ]
    }
   ],
   "source": [
    "print(\"hello world\")"
   ]
  },
  {
   "cell_type": "code",
   "execution_count": 1,
   "id": "06be1c4d",
   "metadata": {},
   "outputs": [],
   "source": [
    "# 한글작업"
   ]
  },
  {
   "cell_type": "code",
   "execution_count": 3,
   "id": "3c61ebf8-5546-42c8-a97c-5dd45f4deadd",
   "metadata": {},
   "outputs": [],
   "source": [
    "a=5\n",
    "if a==10:\n",
    "    print('10입니다.')"
   ]
  },
  {
   "cell_type": "code",
   "execution_count": 4,
   "id": "41a799b4-9052-4bd0-9629-25a334e472cb",
   "metadata": {},
   "outputs": [
    {
     "data": {
      "text/plain": [
       "3"
      ]
     },
     "execution_count": 4,
     "metadata": {},
     "output_type": "execute_result"
    }
   ],
   "source": [
    "1+1+1"
   ]
  },
  {
   "cell_type": "code",
   "execution_count": 5,
   "id": "28ec7fc5-ef3c-41f9-8a71-904b99e9e291",
   "metadata": {},
   "outputs": [
    {
     "data": {
      "text/plain": [
       "2.0"
      ]
     },
     "execution_count": 5,
     "metadata": {},
     "output_type": "execute_result"
    }
   ],
   "source": [
    "1+1.0"
   ]
  },
  {
   "cell_type": "code",
   "execution_count": 6,
   "id": "fb0a3051-181b-4af2-b58b-c1165eacd49a",
   "metadata": {},
   "outputs": [
    {
     "data": {
      "text/plain": [
       "2.0"
      ]
     },
     "execution_count": 6,
     "metadata": {},
     "output_type": "execute_result"
    }
   ],
   "source": [
    "4/2"
   ]
  },
  {
   "cell_type": "raw",
   "id": "7a82fffe-bd00-4e82-b58c-ca85c9eee8ca",
   "metadata": {},
   "source": [
    "//(몫), %(나머지), **(거듭제곱)"
   ]
  },
  {
   "cell_type": "markdown",
   "id": "368be99c-c7ff-4a36-83cb-43eb8740abd7",
   "metadata": {
    "tags": []
   },
   "source": [
    ".[네이버]. (http://www.naver.com)"
   ]
  },
  {
   "cell_type": "markdown",
   "id": "42756046-b401-49cf-87f8-46d24b990b19",
   "metadata": {},
   "source": [
    "!.[.].(summer.jfif)"
   ]
  },
  {
   "cell_type": "code",
   "execution_count": 12,
   "id": "3a909835-ffaa-4f0f-a09f-269dc87149ef",
   "metadata": {},
   "outputs": [
    {
     "name": "stdin",
     "output_type": "stream",
     "text": [
      "숫자를 입력하세요 >>>  56\n"
     ]
    }
   ],
   "source": [
    "a = input('숫자를 입력하세요 >>> ')"
   ]
  },
  {
   "cell_type": "code",
   "execution_count": 14,
   "id": "ad3df8b5-82e9-40e0-ab3f-dde1aada70f2",
   "metadata": {
    "tags": []
   },
   "outputs": [
    {
     "data": {
      "text/plain": [
       "str"
      ]
     },
     "execution_count": 14,
     "metadata": {},
     "output_type": "execute_result"
    }
   ],
   "source": [
    "type(a)"
   ]
  },
  {
   "cell_type": "code",
   "execution_count": 6,
   "id": "f59e850c-f37e-4515-a46d-938d161cf1cc",
   "metadata": {},
   "outputs": [
    {
     "name": "stdin",
     "output_type": "stream",
     "text": [
      "입력하세요 56\n"
     ]
    },
    {
     "data": {
      "text/plain": [
       "str"
      ]
     },
     "execution_count": 6,
     "metadata": {},
     "output_type": "execute_result"
    }
   ],
   "source": [
    "b=input('입력하세요')\n",
    "type(b)"
   ]
  },
  {
   "cell_type": "code",
   "execution_count": 7,
   "id": "e0658052-d6d9-4b50-aeb7-d70b42dfa973",
   "metadata": {},
   "outputs": [
    {
     "data": {
      "text/plain": [
       "True"
      ]
     },
     "execution_count": 7,
     "metadata": {},
     "output_type": "execute_result"
    }
   ],
   "source": [
    "b.isdecimal()"
   ]
  },
  {
   "cell_type": "code",
   "execution_count": null,
   "id": "8bb35c6c-695f-48da-8baa-2a96a7c59d5c",
   "metadata": {},
   "outputs": [],
   "source": [
    "c=input('박스당 과일 수 입력 :')\n",
    "d=input('전체 과일 수 입력 :')\n",
    "\n",
    "if c.isdecimal() and d.isdecimal():\n",
    "    print(int(d)//int(c) '박스')\n",
    "    print(int(d)%int(c) '개)\n",
    "else:\n",
    "    print('다시 입력하세요')"
   ]
  },
  {
   "cell_type": "code",
   "execution_count": null,
   "id": "8916632b-2ea2-41d6-8c2a-7fffce7a11c3",
   "metadata": {},
   "outputs": [],
   "source": []
  }
 ],
 "metadata": {
  "kernelspec": {
   "display_name": "Python 3 (ipykernel)",
   "language": "python",
   "name": "python3"
  },
  "language_info": {
   "codemirror_mode": {
    "name": "ipython",
    "version": 3
   },
   "file_extension": ".py",
   "mimetype": "text/x-python",
   "name": "python",
   "nbconvert_exporter": "python",
   "pygments_lexer": "ipython3",
   "version": "3.9.7"
  }
 },
 "nbformat": 4,
 "nbformat_minor": 5
}
