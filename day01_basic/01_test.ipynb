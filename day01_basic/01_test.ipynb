{
 "cells": [
  {
   "cell_type": "code",
   "execution_count": 1,
   "id": "a701e044",
   "metadata": {},
   "outputs": [
    {
     "name": "stdout",
     "output_type": "stream",
     "text": [
      "hello world\n"
     ]
    }
   ],
   "source": [
    "print(\"hello world\")"
   ]
  },
  {
   "cell_type": "code",
   "execution_count": 1,
   "id": "06be1c4d",
   "metadata": {},
   "outputs": [],
   "source": [
    "# 한글작업"
   ]
  },
  {
   "cell_type": "code",
   "execution_count": 3,
   "id": "3c61ebf8-5546-42c8-a97c-5dd45f4deadd",
   "metadata": {},
   "outputs": [],
   "source": [
    "a=5\n",
    "if a==10:\n",
    "    print('10입니다.')"
   ]
  },
  {
   "cell_type": "code",
   "execution_count": 4,
   "id": "41a799b4-9052-4bd0-9629-25a334e472cb",
   "metadata": {},
   "outputs": [
    {
     "data": {
      "text/plain": [
       "3"
      ]
     },
     "execution_count": 4,
     "metadata": {},
     "output_type": "execute_result"
    }
   ],
   "source": [
    "1+1+1"
   ]
  },
  {
   "cell_type": "code",
   "execution_count": 5,
   "id": "28ec7fc5-ef3c-41f9-8a71-904b99e9e291",
   "metadata": {},
   "outputs": [
    {
     "data": {
      "text/plain": [
       "2.0"
      ]
     },
     "execution_count": 5,
     "metadata": {},
     "output_type": "execute_result"
    }
   ],
   "source": [
    "1+1.0"
   ]
  },
  {
   "cell_type": "code",
   "execution_count": 6,
   "id": "fb0a3051-181b-4af2-b58b-c1165eacd49a",
   "metadata": {},
   "outputs": [
    {
     "data": {
      "text/plain": [
       "2.0"
      ]
     },
     "execution_count": 6,
     "metadata": {},
     "output_type": "execute_result"
    }
   ],
   "source": [
    "4/2"
   ]
  },
  {
   "cell_type": "raw",
   "id": "7a82fffe-bd00-4e82-b58c-ca85c9eee8ca",
   "metadata": {},
   "source": [
    "//(몫), %(나머지), **(거듭제곱)"
   ]
  },
  {
   "cell_type": "markdown",
   "id": "368be99c-c7ff-4a36-83cb-43eb8740abd7",
   "metadata": {
    "tags": []
   },
   "source": [
    ".[네이버]. (http://www.naver.com)"
   ]
  },
  {
   "cell_type": "markdown",
   "id": "42756046-b401-49cf-87f8-46d24b990b19",
   "metadata": {},
   "source": [
    "!.[.].(summer.jfif)"
   ]
  },
  {
   "cell_type": "code",
   "execution_count": 12,
   "id": "3a909835-ffaa-4f0f-a09f-269dc87149ef",
   "metadata": {},
   "outputs": [
    {
     "name": "stdin",
     "output_type": "stream",
     "text": [
      "숫자를 입력하세요 >>>  56\n"
     ]
    }
   ],
   "source": [
    "a = input('숫자를 입력하세요 >>> ')"
   ]
  },
  {
   "cell_type": "code",
   "execution_count": 14,
   "id": "ad3df8b5-82e9-40e0-ab3f-dde1aada70f2",
   "metadata": {
    "tags": []
   },
   "outputs": [
    {
     "data": {
      "text/plain": [
       "str"
      ]
     },
     "execution_count": 14,
     "metadata": {},
     "output_type": "execute_result"
    }
   ],
   "source": [
    "type(a)"
   ]
  },
  {
   "cell_type": "code",
   "execution_count": 6,
   "id": "f59e850c-f37e-4515-a46d-938d161cf1cc",
   "metadata": {},
   "outputs": [
    {
     "name": "stdin",
     "output_type": "stream",
     "text": [
      "입력하세요 56\n"
     ]
    },
    {
     "data": {
      "text/plain": [
       "str"
      ]
     },
     "execution_count": 6,
     "metadata": {},
     "output_type": "execute_result"
    }
   ],
   "source": [
    "b=input('입력하세요')\n",
    "type(b)"
   ]
  },
  {
   "cell_type": "code",
   "execution_count": 7,
   "id": "e0658052-d6d9-4b50-aeb7-d70b42dfa973",
   "metadata": {},
   "outputs": [
    {
     "data": {
      "text/plain": [
       "True"
      ]
     },
     "execution_count": 7,
     "metadata": {},
     "output_type": "execute_result"
    }
   ],
   "source": [
    "b.isdecimal()"
   ]
  },
  {
   "cell_type": "code",
   "execution_count": 8,
   "id": "8bb35c6c-695f-48da-8baa-2a96a7c59d5c",
   "metadata": {},
   "outputs": [
    {
     "name": "stdin",
     "output_type": "stream",
     "text": [
      "박스당 과일 수 입력 : 10\n",
      "전체 과일 수 입력 : 30\n"
     ]
    },
    {
     "name": "stdout",
     "output_type": "stream",
     "text": [
      "3 박스 0 개\n"
     ]
    }
   ],
   "source": [
    "c=input('박스당 과일 수 입력 :')\n",
    "d=input('전체 과일 수 입력 :')\n",
    "\n",
    "if c.isdecimal() and d.isdecimal():\n",
    "    print(int(d)//int(c),'박스',int(d)%int(c),'개')\n",
    "else:\n",
    "    print('다시 입력하세요')"
   ]
  },
  {
   "cell_type": "code",
   "execution_count": 14,
   "id": "8916632b-2ea2-41d6-8c2a-7fffce7a11c3",
   "metadata": {},
   "outputs": [],
   "source": [
    "a=divmod(5,2)"
   ]
  },
  {
   "cell_type": "code",
   "execution_count": 16,
   "id": "47950f35-b588-4928-aa9e-bb8b6d99e926",
   "metadata": {},
   "outputs": [
    {
     "data": {
      "text/plain": [
       "(2, 1)"
      ]
     },
     "execution_count": 16,
     "metadata": {},
     "output_type": "execute_result"
    }
   ],
   "source": [
    "a"
   ]
  },
  {
   "cell_type": "code",
   "execution_count": 10,
   "id": "25a75ec7-70b7-4af9-9524-17865ea43859",
   "metadata": {},
   "outputs": [],
   "source": [
    "# [],{},() 구분"
   ]
  },
  {
   "cell_type": "code",
   "execution_count": 15,
   "id": "06b99508-2a23-4244-8c71-14387192e67e",
   "metadata": {},
   "outputs": [
    {
     "data": {
      "text/plain": [
       "2"
      ]
     },
     "execution_count": 15,
     "metadata": {},
     "output_type": "execute_result"
    }
   ],
   "source": [
    "a[0]"
   ]
  },
  {
   "cell_type": "code",
   "execution_count": 17,
   "id": "5f7c98ec-7891-4f9b-955e-21bfad904a2c",
   "metadata": {},
   "outputs": [
    {
     "data": {
      "text/plain": [
       "5"
      ]
     },
     "execution_count": 17,
     "metadata": {},
     "output_type": "execute_result"
    }
   ],
   "source": [
    "0b00101"
   ]
  },
  {
   "cell_type": "code",
   "execution_count": 18,
   "id": "ffabc053-ec4b-4af4-815a-ef3bd676ee7e",
   "metadata": {},
   "outputs": [
    {
     "data": {
      "text/plain": [
       "342391"
      ]
     },
     "execution_count": 18,
     "metadata": {},
     "output_type": "execute_result"
    }
   ],
   "source": [
    "0o1234567"
   ]
  },
  {
   "cell_type": "code",
   "execution_count": 19,
   "id": "6d10a2e3-c059-4f65-af9d-0fa7386c65e9",
   "metadata": {},
   "outputs": [
    {
     "data": {
      "text/plain": [
       "1048570"
      ]
     },
     "execution_count": 19,
     "metadata": {},
     "output_type": "execute_result"
    }
   ],
   "source": [
    "0xffffa"
   ]
  },
  {
   "cell_type": "code",
   "execution_count": 20,
   "id": "836cfbe2-36a7-4d91-8443-8218a92da157",
   "metadata": {},
   "outputs": [
    {
     "data": {
      "text/plain": [
       "['안녕', '하세요']"
      ]
     },
     "execution_count": 20,
     "metadata": {},
     "output_type": "execute_result"
    }
   ],
   "source": [
    "'안녕 하세요'.split()"
   ]
  },
  {
   "cell_type": "code",
   "execution_count": 21,
   "id": "8c124533-4b14-4bce-8d5d-dd3ec1e6204c",
   "metadata": {},
   "outputs": [
    {
     "name": "stdin",
     "output_type": "stream",
     "text": [
      " a b \n"
     ]
    },
    {
     "data": {
      "text/plain": [
       "['a', 'b']"
      ]
     },
     "execution_count": 21,
     "metadata": {},
     "output_type": "execute_result"
    }
   ],
   "source": [
    "input().split()"
   ]
  },
  {
   "cell_type": "code",
   "execution_count": 22,
   "id": "40f16cb5-e811-493f-a9ee-6de97295735c",
   "metadata": {},
   "outputs": [
    {
     "name": "stdin",
     "output_type": "stream",
     "text": [
      " a b c\n"
     ]
    },
    {
     "data": {
      "text/plain": [
       "'a'"
      ]
     },
     "execution_count": 22,
     "metadata": {},
     "output_type": "execute_result"
    }
   ],
   "source": [
    "input().split()[0]"
   ]
  },
  {
   "cell_type": "code",
   "execution_count": 27,
   "id": "d627d14a-d140-40d7-a763-c4bbfa9dd865",
   "metadata": {},
   "outputs": [
    {
     "name": "stdout",
     "output_type": "stream",
     "text": [
      "a/b/c.../nddd\n"
     ]
    }
   ],
   "source": [
    "print('a','b','c',sep='/',end='...')\n",
    "print('ddd')"
   ]
  },
  {
   "cell_type": "code",
   "execution_count": 30,
   "id": "f3e56e60-8a03-42e3-95a5-7fc2c1998a00",
   "metadata": {},
   "outputs": [
    {
     "data": {
      "text/plain": [
       "True"
      ]
     },
     "execution_count": 30,
     "metadata": {},
     "output_type": "execute_result"
    }
   ],
   "source": [
    "a=1\n",
    "b=1.0\n",
    "a==b"
   ]
  },
  {
   "cell_type": "code",
   "execution_count": 31,
   "id": "02154f9b-4090-4f3e-9cff-8b1a8972fae3",
   "metadata": {},
   "outputs": [
    {
     "data": {
      "text/plain": [
       "False"
      ]
     },
     "execution_count": 31,
     "metadata": {},
     "output_type": "execute_result"
    }
   ],
   "source": [
    "a is b"
   ]
  },
  {
   "cell_type": "code",
   "execution_count": 32,
   "id": "4e6c51db-1526-4ea0-9ad9-67f4b1c383d4",
   "metadata": {},
   "outputs": [
    {
     "data": {
      "text/plain": [
       "'안녕\\n하세ㅛ\\n안녕\\n'"
      ]
     },
     "execution_count": 32,
     "metadata": {},
     "output_type": "execute_result"
    }
   ],
   "source": [
    "'''안녕\n",
    "하세ㅛ\n",
    "안녕\n",
    "'''"
   ]
  },
  {
   "cell_type": "code",
   "execution_count": 33,
   "id": "ce69829b-a8f4-41b0-9351-361d4b53d56b",
   "metadata": {},
   "outputs": [
    {
     "data": {
      "text/plain": [
       "'아|ns'"
      ]
     },
     "execution_count": 33,
     "metadata": {},
     "output_type": "execute_result"
    }
   ],
   "source": [
    "'아|ns'"
   ]
  },
  {
   "cell_type": "code",
   "execution_count": 47,
   "id": "c67258cf-c424-4f05-951d-5d95142ec455",
   "metadata": {},
   "outputs": [
    {
     "data": {
      "text/plain": [
       "'i eat 3984454.147 apple. total 6'"
      ]
     },
     "execution_count": 47,
     "metadata": {},
     "output_type": "execute_result"
    }
   ],
   "source": [
    "value=3984454.14684894984\n",
    "'i eat {:^10.3f} apple. total {}'.format(value,6) #중앙은 ^ , 왼쪽은 <"
   ]
  },
  {
   "cell_type": "code",
   "execution_count": 48,
   "id": "4beaec5f-6fdd-407f-a554-10f2473d796c",
   "metadata": {},
   "outputs": [
    {
     "data": {
      "text/plain": [
       "'i eat 3,984,454.147 apple.'"
      ]
     },
     "execution_count": 48,
     "metadata": {},
     "output_type": "execute_result"
    }
   ],
   "source": [
    "f'i eat {value:^10,.3f} apple.' #천단위 구분기호는 마침표 앞에 , 찍어주면됨"
   ]
  },
  {
   "cell_type": "code",
   "execution_count": 49,
   "id": "55af9223-59d3-4570-8e90-1c271e06b942",
   "metadata": {},
   "outputs": [],
   "source": [
    "a=\"life is too short\""
   ]
  },
  {
   "cell_type": "code",
   "execution_count": 50,
   "id": "f0fa6ab5-3155-4a21-8fab-0382a515a83c",
   "metadata": {},
   "outputs": [
    {
     "data": {
      "text/plain": [
       "17"
      ]
     },
     "execution_count": 50,
     "metadata": {},
     "output_type": "execute_result"
    }
   ],
   "source": [
    "len(a)"
   ]
  },
  {
   "cell_type": "code",
   "execution_count": 51,
   "id": "0063ffd8-2d49-44c0-bcdc-d0d7b4be466a",
   "metadata": {},
   "outputs": [
    {
     "data": {
      "text/plain": [
       "'t'"
      ]
     },
     "execution_count": 51,
     "metadata": {},
     "output_type": "execute_result"
    }
   ],
   "source": [
    "a[-1]"
   ]
  },
  {
   "cell_type": "code",
   "execution_count": 53,
   "id": "19015d79-acf9-40d6-abaa-873ad802df82",
   "metadata": {},
   "outputs": [
    {
     "data": {
      "text/plain": [
       "'life'"
      ]
     },
     "execution_count": 53,
     "metadata": {},
     "output_type": "execute_result"
    }
   ],
   "source": [
    "a[0:4] #파이썬에서는 끝값 포함 안함"
   ]
  },
  {
   "cell_type": "code",
   "execution_count": 54,
   "id": "35574c30-edca-4dca-a79f-a927bb47cc7f",
   "metadata": {},
   "outputs": [
    {
     "data": {
      "text/plain": [
       "'ort'"
      ]
     },
     "execution_count": 54,
     "metadata": {},
     "output_type": "execute_result"
    }
   ],
   "source": [
    "a[-3:]"
   ]
  },
  {
   "cell_type": "code",
   "execution_count": 56,
   "id": "c2a780f0-ad2b-4122-84de-72454a2575c6",
   "metadata": {},
   "outputs": [
    {
     "data": {
      "text/plain": [
       "1"
      ]
     },
     "execution_count": 56,
     "metadata": {},
     "output_type": "execute_result"
    }
   ],
   "source": [
    "a='skdfweniq[ro'\n",
    "a.count('e')"
   ]
  },
  {
   "cell_type": "code",
   "execution_count": 57,
   "id": "cbd58089-d282-4368-a128-ebb227f26bb5",
   "metadata": {},
   "outputs": [
    {
     "name": "stdin",
     "output_type": "stream",
     "text": [
      "이메일을 입력하세요 ssenpick@naver.com\n"
     ]
    },
    {
     "data": {
      "text/plain": [
       "1"
      ]
     },
     "execution_count": 57,
     "metadata": {},
     "output_type": "execute_result"
    }
   ],
   "source": [
    "email=input('이메일을 입력하세요')\n",
    "count = email.count('@')\n",
    "count"
   ]
  },
  {
   "cell_type": "code",
   "execution_count": 61,
   "id": "de37c884-3bdd-47f3-b53e-82da1de303ea",
   "metadata": {},
   "outputs": [
    {
     "data": {
      "text/plain": [
       "-1"
      ]
     },
     "execution_count": 61,
     "metadata": {},
     "output_type": "execute_result"
    }
   ],
   "source": [
    "email.find('@')\n",
    "email.find('l')"
   ]
  },
  {
   "cell_type": "code",
   "execution_count": 62,
   "id": "5323b4ab-b0dd-442e-8dd2-2ec1ee4c192d",
   "metadata": {},
   "outputs": [
    {
     "ename": "ValueError",
     "evalue": "substring not found",
     "output_type": "error",
     "traceback": [
      "\u001b[1;31m---------------------------------------------------------------------------\u001b[0m",
      "\u001b[1;31mValueError\u001b[0m                                Traceback (most recent call last)",
      "\u001b[1;32m~\\AppData\\Local\\Temp/ipykernel_1648/2404935658.py\u001b[0m in \u001b[0;36m<module>\u001b[1;34m\u001b[0m\n\u001b[0;32m      1\u001b[0m \u001b[0memail\u001b[0m\u001b[1;33m.\u001b[0m\u001b[0mindex\u001b[0m\u001b[1;33m(\u001b[0m\u001b[1;34m'@'\u001b[0m\u001b[1;33m)\u001b[0m \u001b[1;31m#index는 못찾으면 오류로 처리함\u001b[0m\u001b[1;33m\u001b[0m\u001b[1;33m\u001b[0m\u001b[0m\n\u001b[1;32m----> 2\u001b[1;33m \u001b[0memail\u001b[0m\u001b[1;33m.\u001b[0m\u001b[0mindex\u001b[0m\u001b[1;33m(\u001b[0m\u001b[1;34m'l'\u001b[0m\u001b[1;33m)\u001b[0m\u001b[1;33m\u001b[0m\u001b[1;33m\u001b[0m\u001b[0m\n\u001b[0m",
      "\u001b[1;31mValueError\u001b[0m: substring not found"
     ]
    }
   ],
   "source": [
    "email.index('@') #index는 못찾으면 오류로 처리함\n",
    "email.index('l')\n"
   ]
  },
  {
   "cell_type": "code",
   "execution_count": null,
   "id": "3febc5ed-feeb-4acc-bfb2-fb25b267bdb4",
   "metadata": {},
   "outputs": [],
   "source": []
  }
 ],
 "metadata": {
  "kernelspec": {
   "display_name": "Python 3 (ipykernel)",
   "language": "python",
   "name": "python3"
  },
  "language_info": {
   "codemirror_mode": {
    "name": "ipython",
    "version": 3
   },
   "file_extension": ".py",
   "mimetype": "text/x-python",
   "name": "python",
   "nbconvert_exporter": "python",
   "pygments_lexer": "ipython3",
   "version": "3.9.7"
  }
 },
 "nbformat": 4,
 "nbformat_minor": 5
}
